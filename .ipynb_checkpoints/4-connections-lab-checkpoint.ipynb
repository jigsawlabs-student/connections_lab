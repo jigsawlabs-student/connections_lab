{
 "cells": [
  {
   "cell_type": "markdown",
   "id": "assisted-membership",
   "metadata": {},
   "source": [
    "# Connections Lab"
   ]
  },
  {
   "cell_type": "markdown",
   "id": "dying-heater",
   "metadata": {},
   "source": [
    "### Introduction"
   ]
  },
  {
   "cell_type": "markdown",
   "id": "hawaiian-belfast",
   "metadata": {},
   "source": [
    "In this lesson, we'll practice using airflow to connect to our AWS services.  Let's get started."
   ]
  },
  {
   "cell_type": "markdown",
   "id": "every-chess",
   "metadata": {},
   "source": [
    "### Connecting to RDS"
   ]
  },
  {
   "cell_type": "markdown",
   "id": "streaming-planning",
   "metadata": {},
   "source": [
    "Now for this task, let's create a new dag that performs two tasks:\n",
    "\n",
    "1. Create a task called `five_venues` that queries and logs the first five venues\n",
    "2. Create a task called `three_categories` that queries and log the first three categories"
   ]
  },
  {
   "cell_type": "markdown",
   "id": "configured-vitamin",
   "metadata": {},
   "source": [
    "To accomplish this, we can connect to an RDS instance already set up.  Here is some information you'll need to connect to the database."
   ]
  },
  {
   "cell_type": "code",
   "execution_count": 1,
   "id": "retained-biology",
   "metadata": {},
   "outputs": [],
   "source": [
    "host = \"foursquare-flask-api.cbdkozm37vkd.us-east-1.rds.amazonaws.com\"\n",
    "database = 'postgres'\n",
    "password = 'password1'"
   ]
  },
  {
   "cell_type": "markdown",
   "id": "possible-chick",
   "metadata": {},
   "source": [
    "Ok, now let's create the dag and the two tasks, and use a PostgresHook to produce the requested information in the task logs.  If things are working properly, we can begin by seeing that the tasks have successfully performed."
   ]
  },
  {
   "cell_type": "markdown",
   "id": "traditional-serbia",
   "metadata": {},
   "source": [
    "<img src=\"./perform_queries.png\" width=\"80%\">"
   ]
  },
  {
   "cell_type": "markdown",
   "id": "hungry-shanghai",
   "metadata": {},
   "source": [
    "And then we can check the logs."
   ]
  },
  {
   "cell_type": "markdown",
   "id": "preceding-basin",
   "metadata": {},
   "source": [
    "> So first we can see the values from `get_venues` returned."
   ]
  },
  {
   "cell_type": "markdown",
   "id": "israeli-cancellation",
   "metadata": {},
   "source": [
    "<img src=\"./get_venues.png\" width=\"100%\">"
   ]
  },
  {
   "cell_type": "markdown",
   "id": "plastic-minneapolis",
   "metadata": {},
   "source": [
    "> And then in the `get_categories` task, we can see that the values of Pizza, Italian, and Bar were returned."
   ]
  },
  {
   "cell_type": "markdown",
   "id": "another-discipline",
   "metadata": {},
   "source": [
    "<img src=\"./get_categories.png\" width=\"90%\">"
   ]
  },
  {
   "cell_type": "markdown",
   "id": "lesbian-environment",
   "metadata": {},
   "source": [
    "Great, so we were successfully able to connect to our instances."
   ]
  },
  {
   "cell_type": "markdown",
   "id": "remarkable-cleaner",
   "metadata": {},
   "source": [
    "### Summary"
   ]
  },
  {
   "cell_type": "markdown",
   "id": "turned-absolute",
   "metadata": {},
   "source": [
    "In this lesson, we practiced working with and setting up connections so that we could connect to our RDS database.  In future lessons, we'll see how we can use the connections to perform our steps of loading data RDS to S3 and S3 to redshift."
   ]
  }
 ],
 "metadata": {
  "kernelspec": {
   "display_name": "Python 3",
   "language": "python",
   "name": "python3"
  },
  "language_info": {
   "codemirror_mode": {
    "name": "ipython",
    "version": 3
   },
   "file_extension": ".py",
   "mimetype": "text/x-python",
   "name": "python",
   "nbconvert_exporter": "python",
   "pygments_lexer": "ipython3",
   "version": "3.8.6"
  }
 },
 "nbformat": 4,
 "nbformat_minor": 5
}
